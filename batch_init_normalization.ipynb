{
  "nbformat": 4,
  "nbformat_minor": 0,
  "metadata": {
    "colab": {
      "provenance": [],
      "gpuType": "T4"
    },
    "kernelspec": {
      "name": "python3",
      "display_name": "Python 3"
    },
    "language_info": {
      "name": "python"
    },
    "accelerator": "GPU"
  },
  "cells": [
    {
      "cell_type": "code",
      "execution_count": 29,
      "metadata": {
        "id": "8NTq2tR06Pek"
      },
      "outputs": [],
      "source": [
        "import tensorflow as tf\n",
        "from tensorflow import keras\n",
        "from sklearn.model_selection import train_test_split\n",
        "from keras.datasets import fashion_mnist\n",
        "import matplotlib.pyplot as plt"
      ]
    },
    {
      "cell_type": "code",
      "source": [
        "df = keras.datasets.fashion_mnist"
      ],
      "metadata": {
        "id": "JYPcD_2F6iut"
      },
      "execution_count": 4,
      "outputs": []
    },
    {
      "cell_type": "code",
      "source": [
        "(X_train, y_train),(X_test, y_test) = df.load_data()"
      ],
      "metadata": {
        "colab": {
          "base_uri": "https://localhost:8080/"
        },
        "id": "Nd1E2lRh6rjD",
        "outputId": "53559520-69ec-448d-9a6c-cb70f171216f"
      },
      "execution_count": 5,
      "outputs": [
        {
          "output_type": "stream",
          "name": "stdout",
          "text": [
            "Downloading data from https://storage.googleapis.com/tensorflow/tf-keras-datasets/train-labels-idx1-ubyte.gz\n",
            "\u001b[1m29515/29515\u001b[0m \u001b[32m━━━━━━━━━━━━━━━━━━━━\u001b[0m\u001b[37m\u001b[0m \u001b[1m0s\u001b[0m 0us/step\n",
            "Downloading data from https://storage.googleapis.com/tensorflow/tf-keras-datasets/train-images-idx3-ubyte.gz\n",
            "\u001b[1m26421880/26421880\u001b[0m \u001b[32m━━━━━━━━━━━━━━━━━━━━\u001b[0m\u001b[37m\u001b[0m \u001b[1m0s\u001b[0m 0us/step\n",
            "Downloading data from https://storage.googleapis.com/tensorflow/tf-keras-datasets/t10k-labels-idx1-ubyte.gz\n",
            "\u001b[1m5148/5148\u001b[0m \u001b[32m━━━━━━━━━━━━━━━━━━━━\u001b[0m\u001b[37m\u001b[0m \u001b[1m0s\u001b[0m 0us/step\n",
            "Downloading data from https://storage.googleapis.com/tensorflow/tf-keras-datasets/t10k-images-idx3-ubyte.gz\n",
            "\u001b[1m4422102/4422102\u001b[0m \u001b[32m━━━━━━━━━━━━━━━━━━━━\u001b[0m\u001b[37m\u001b[0m \u001b[1m0s\u001b[0m 0us/step\n"
          ]
        }
      ]
    },
    {
      "cell_type": "code",
      "source": [
        "X_train.shape"
      ],
      "metadata": {
        "colab": {
          "base_uri": "https://localhost:8080/"
        },
        "id": "6fsC5L2F6zzz",
        "outputId": "0ab4c8b1-cf4d-4456-9c81-976862eb7c54"
      },
      "execution_count": 6,
      "outputs": [
        {
          "output_type": "execute_result",
          "data": {
            "text/plain": [
              "(60000, 28, 28)"
            ]
          },
          "metadata": {},
          "execution_count": 6
        }
      ]
    },
    {
      "cell_type": "code",
      "source": [
        "X_train, X_test = X_train/255.0, X_test/255.0"
      ],
      "metadata": {
        "id": "qMEDkTyA628z"
      },
      "execution_count": 7,
      "outputs": []
    },
    {
      "cell_type": "code",
      "source": [
        "init_1 = keras.initializers.LecunUniform()"
      ],
      "metadata": {
        "id": "hUJRqUAY8E1f"
      },
      "execution_count": 8,
      "outputs": []
    },
    {
      "cell_type": "code",
      "source": [
        "model = keras.models.Sequential([\n",
        "    keras.layers.Flatten(input_shape=[28,28]),\n",
        "    keras.layers.Dense(80, use_bias=False, kernel_initializer= init_1),\n",
        "    keras.layers.BatchNormalization(),\n",
        "    keras.layers.Activation('selu'),\n",
        "    keras.layers.Dense(60, use_bias=False, kernel_initializer= init_1),\n",
        "    keras.layers.BatchNormalization(),\n",
        "    keras.layers.Activation('selu'),\n",
        "    keras.layers.Dense(40, use_bias=False, kernel_initializer= init_1),\n",
        "    keras.layers.BatchNormalization(),\n",
        "    keras.layers.Activation('selu'),\n",
        "    keras.layers.Dense(10, activation= 'softmax')\n",
        "])"
      ],
      "metadata": {
        "colab": {
          "base_uri": "https://localhost:8080/"
        },
        "id": "WhReCVIW7CVL",
        "outputId": "b2806f3e-a77b-4600-d926-679a4e5ae17f"
      },
      "execution_count": 12,
      "outputs": [
        {
          "output_type": "stream",
          "name": "stderr",
          "text": [
            "/usr/local/lib/python3.11/dist-packages/keras/src/layers/reshaping/flatten.py:37: UserWarning: Do not pass an `input_shape`/`input_dim` argument to a layer. When using Sequential models, prefer using an `Input(shape)` object as the first layer in the model instead.\n",
            "  super().__init__(**kwargs)\n"
          ]
        }
      ]
    },
    {
      "cell_type": "code",
      "source": [
        "model.compile(optimizer='adam', loss = 'sparse_categorical_crossentropy', metrics=['accuracy'])"
      ],
      "metadata": {
        "id": "QdcEr5YG9GnM"
      },
      "execution_count": 13,
      "outputs": []
    },
    {
      "cell_type": "code",
      "source": [
        "history = model.fit(X_train, y_train, epochs=60 , validation_split=0.15)"
      ],
      "metadata": {
        "colab": {
          "base_uri": "https://localhost:8080/"
        },
        "id": "8vdk22dy-AzM",
        "outputId": "932245d5-6053-470c-a7eb-ac494430bdd9"
      },
      "execution_count": 14,
      "outputs": [
        {
          "output_type": "stream",
          "name": "stdout",
          "text": [
            "Epoch 1/60\n",
            "\u001b[1m1594/1594\u001b[0m \u001b[32m━━━━━━━━━━━━━━━━━━━━\u001b[0m\u001b[37m\u001b[0m \u001b[1m11s\u001b[0m 5ms/step - accuracy: 0.7865 - loss: 0.6177 - val_accuracy: 0.8308 - val_loss: 0.4618\n",
            "Epoch 2/60\n",
            "\u001b[1m1594/1594\u001b[0m \u001b[32m━━━━━━━━━━━━━━━━━━━━\u001b[0m\u001b[37m\u001b[0m \u001b[1m4s\u001b[0m 3ms/step - accuracy: 0.8442 - loss: 0.4332 - val_accuracy: 0.8567 - val_loss: 0.3949\n",
            "Epoch 3/60\n",
            "\u001b[1m1594/1594\u001b[0m \u001b[32m━━━━━━━━━━━━━━━━━━━━\u001b[0m\u001b[37m\u001b[0m \u001b[1m5s\u001b[0m 3ms/step - accuracy: 0.8582 - loss: 0.3912 - val_accuracy: 0.8584 - val_loss: 0.3867\n",
            "Epoch 4/60\n",
            "\u001b[1m1594/1594\u001b[0m \u001b[32m━━━━━━━━━━━━━━━━━━━━\u001b[0m\u001b[37m\u001b[0m \u001b[1m5s\u001b[0m 3ms/step - accuracy: 0.8701 - loss: 0.3552 - val_accuracy: 0.8713 - val_loss: 0.3625\n",
            "Epoch 5/60\n",
            "\u001b[1m1594/1594\u001b[0m \u001b[32m━━━━━━━━━━━━━━━━━━━━\u001b[0m\u001b[37m\u001b[0m \u001b[1m4s\u001b[0m 3ms/step - accuracy: 0.8771 - loss: 0.3332 - val_accuracy: 0.8772 - val_loss: 0.3406\n",
            "Epoch 6/60\n",
            "\u001b[1m1594/1594\u001b[0m \u001b[32m━━━━━━━━━━━━━━━━━━━━\u001b[0m\u001b[37m\u001b[0m \u001b[1m5s\u001b[0m 3ms/step - accuracy: 0.8856 - loss: 0.3111 - val_accuracy: 0.8688 - val_loss: 0.3601\n",
            "Epoch 7/60\n",
            "\u001b[1m1594/1594\u001b[0m \u001b[32m━━━━━━━━━━━━━━━━━━━━\u001b[0m\u001b[37m\u001b[0m \u001b[1m4s\u001b[0m 3ms/step - accuracy: 0.8857 - loss: 0.3113 - val_accuracy: 0.8591 - val_loss: 0.3926\n",
            "Epoch 8/60\n",
            "\u001b[1m1594/1594\u001b[0m \u001b[32m━━━━━━━━━━━━━━━━━━━━\u001b[0m\u001b[37m\u001b[0m \u001b[1m5s\u001b[0m 3ms/step - accuracy: 0.8925 - loss: 0.2903 - val_accuracy: 0.8667 - val_loss: 0.3693\n",
            "Epoch 9/60\n",
            "\u001b[1m1594/1594\u001b[0m \u001b[32m━━━━━━━━━━━━━━━━━━━━\u001b[0m\u001b[37m\u001b[0m \u001b[1m5s\u001b[0m 3ms/step - accuracy: 0.8943 - loss: 0.2829 - val_accuracy: 0.8813 - val_loss: 0.3313\n",
            "Epoch 10/60\n",
            "\u001b[1m1594/1594\u001b[0m \u001b[32m━━━━━━━━━━━━━━━━━━━━\u001b[0m\u001b[37m\u001b[0m \u001b[1m4s\u001b[0m 3ms/step - accuracy: 0.8988 - loss: 0.2729 - val_accuracy: 0.8721 - val_loss: 0.3648\n",
            "Epoch 11/60\n",
            "\u001b[1m1594/1594\u001b[0m \u001b[32m━━━━━━━━━━━━━━━━━━━━\u001b[0m\u001b[37m\u001b[0m \u001b[1m5s\u001b[0m 3ms/step - accuracy: 0.9005 - loss: 0.2691 - val_accuracy: 0.8831 - val_loss: 0.3317\n",
            "Epoch 12/60\n",
            "\u001b[1m1594/1594\u001b[0m \u001b[32m━━━━━━━━━━━━━━━━━━━━\u001b[0m\u001b[37m\u001b[0m \u001b[1m10s\u001b[0m 3ms/step - accuracy: 0.9013 - loss: 0.2625 - val_accuracy: 0.8719 - val_loss: 0.3520\n",
            "Epoch 13/60\n",
            "\u001b[1m1594/1594\u001b[0m \u001b[32m━━━━━━━━━━━━━━━━━━━━\u001b[0m\u001b[37m\u001b[0m \u001b[1m5s\u001b[0m 3ms/step - accuracy: 0.9063 - loss: 0.2531 - val_accuracy: 0.8844 - val_loss: 0.3263\n",
            "Epoch 14/60\n",
            "\u001b[1m1594/1594\u001b[0m \u001b[32m━━━━━━━━━━━━━━━━━━━━\u001b[0m\u001b[37m\u001b[0m \u001b[1m5s\u001b[0m 3ms/step - accuracy: 0.9089 - loss: 0.2429 - val_accuracy: 0.8853 - val_loss: 0.3184\n",
            "Epoch 15/60\n",
            "\u001b[1m1594/1594\u001b[0m \u001b[32m━━━━━━━━━━━━━━━━━━━━\u001b[0m\u001b[37m\u001b[0m \u001b[1m5s\u001b[0m 3ms/step - accuracy: 0.9155 - loss: 0.2349 - val_accuracy: 0.8759 - val_loss: 0.3553\n",
            "Epoch 16/60\n",
            "\u001b[1m1594/1594\u001b[0m \u001b[32m━━━━━━━━━━━━━━━━━━━━\u001b[0m\u001b[37m\u001b[0m \u001b[1m4s\u001b[0m 3ms/step - accuracy: 0.9128 - loss: 0.2333 - val_accuracy: 0.8779 - val_loss: 0.3490\n",
            "Epoch 17/60\n",
            "\u001b[1m1594/1594\u001b[0m \u001b[32m━━━━━━━━━━━━━━━━━━━━\u001b[0m\u001b[37m\u001b[0m \u001b[1m5s\u001b[0m 3ms/step - accuracy: 0.9181 - loss: 0.2235 - val_accuracy: 0.8774 - val_loss: 0.3485\n",
            "Epoch 18/60\n",
            "\u001b[1m1594/1594\u001b[0m \u001b[32m━━━━━━━━━━━━━━━━━━━━\u001b[0m\u001b[37m\u001b[0m \u001b[1m5s\u001b[0m 3ms/step - accuracy: 0.9207 - loss: 0.2156 - val_accuracy: 0.8760 - val_loss: 0.3631\n",
            "Epoch 19/60\n",
            "\u001b[1m1594/1594\u001b[0m \u001b[32m━━━━━━━━━━━━━━━━━━━━\u001b[0m\u001b[37m\u001b[0m \u001b[1m5s\u001b[0m 3ms/step - accuracy: 0.9206 - loss: 0.2141 - val_accuracy: 0.8831 - val_loss: 0.3419\n",
            "Epoch 20/60\n",
            "\u001b[1m1594/1594\u001b[0m \u001b[32m━━━━━━━━━━━━━━━━━━━━\u001b[0m\u001b[37m\u001b[0m \u001b[1m6s\u001b[0m 3ms/step - accuracy: 0.9218 - loss: 0.2103 - val_accuracy: 0.8841 - val_loss: 0.3448\n",
            "Epoch 21/60\n",
            "\u001b[1m1594/1594\u001b[0m \u001b[32m━━━━━━━━━━━━━━━━━━━━\u001b[0m\u001b[37m\u001b[0m \u001b[1m4s\u001b[0m 3ms/step - accuracy: 0.9222 - loss: 0.2052 - val_accuracy: 0.8893 - val_loss: 0.3307\n",
            "Epoch 22/60\n",
            "\u001b[1m1594/1594\u001b[0m \u001b[32m━━━━━━━━━━━━━━━━━━━━\u001b[0m\u001b[37m\u001b[0m \u001b[1m5s\u001b[0m 3ms/step - accuracy: 0.9243 - loss: 0.2030 - val_accuracy: 0.8746 - val_loss: 0.3735\n",
            "Epoch 23/60\n",
            "\u001b[1m1594/1594\u001b[0m \u001b[32m━━━━━━━━━━━━━━━━━━━━\u001b[0m\u001b[37m\u001b[0m \u001b[1m5s\u001b[0m 3ms/step - accuracy: 0.9243 - loss: 0.2052 - val_accuracy: 0.8801 - val_loss: 0.3802\n",
            "Epoch 24/60\n",
            "\u001b[1m1594/1594\u001b[0m \u001b[32m━━━━━━━━━━━━━━━━━━━━\u001b[0m\u001b[37m\u001b[0m \u001b[1m4s\u001b[0m 3ms/step - accuracy: 0.9250 - loss: 0.1983 - val_accuracy: 0.8796 - val_loss: 0.3538\n",
            "Epoch 25/60\n",
            "\u001b[1m1594/1594\u001b[0m \u001b[32m━━━━━━━━━━━━━━━━━━━━\u001b[0m\u001b[37m\u001b[0m \u001b[1m6s\u001b[0m 3ms/step - accuracy: 0.9314 - loss: 0.1831 - val_accuracy: 0.8783 - val_loss: 0.3594\n",
            "Epoch 26/60\n",
            "\u001b[1m1594/1594\u001b[0m \u001b[32m━━━━━━━━━━━━━━━━━━━━\u001b[0m\u001b[37m\u001b[0m \u001b[1m10s\u001b[0m 3ms/step - accuracy: 0.9302 - loss: 0.1847 - val_accuracy: 0.8893 - val_loss: 0.3348\n",
            "Epoch 27/60\n",
            "\u001b[1m1594/1594\u001b[0m \u001b[32m━━━━━━━━━━━━━━━━━━━━\u001b[0m\u001b[37m\u001b[0m \u001b[1m4s\u001b[0m 3ms/step - accuracy: 0.9301 - loss: 0.1815 - val_accuracy: 0.8873 - val_loss: 0.3404\n",
            "Epoch 28/60\n",
            "\u001b[1m1594/1594\u001b[0m \u001b[32m━━━━━━━━━━━━━━━━━━━━\u001b[0m\u001b[37m\u001b[0m \u001b[1m5s\u001b[0m 3ms/step - accuracy: 0.9338 - loss: 0.1726 - val_accuracy: 0.8834 - val_loss: 0.3744\n",
            "Epoch 29/60\n",
            "\u001b[1m1594/1594\u001b[0m \u001b[32m━━━━━━━━━━━━━━━━━━━━\u001b[0m\u001b[37m\u001b[0m \u001b[1m5s\u001b[0m 3ms/step - accuracy: 0.9338 - loss: 0.1764 - val_accuracy: 0.8877 - val_loss: 0.3585\n",
            "Epoch 30/60\n",
            "\u001b[1m1594/1594\u001b[0m \u001b[32m━━━━━━━━━━━━━━━━━━━━\u001b[0m\u001b[37m\u001b[0m \u001b[1m4s\u001b[0m 3ms/step - accuracy: 0.9352 - loss: 0.1708 - val_accuracy: 0.8862 - val_loss: 0.3550\n",
            "Epoch 31/60\n",
            "\u001b[1m1594/1594\u001b[0m \u001b[32m━━━━━━━━━━━━━━━━━━━━\u001b[0m\u001b[37m\u001b[0m \u001b[1m6s\u001b[0m 3ms/step - accuracy: 0.9375 - loss: 0.1672 - val_accuracy: 0.8772 - val_loss: 0.3835\n",
            "Epoch 32/60\n",
            "\u001b[1m1594/1594\u001b[0m \u001b[32m━━━━━━━━━━━━━━━━━━━━\u001b[0m\u001b[37m\u001b[0m \u001b[1m9s\u001b[0m 3ms/step - accuracy: 0.9399 - loss: 0.1626 - val_accuracy: 0.8806 - val_loss: 0.3744\n",
            "Epoch 33/60\n",
            "\u001b[1m1594/1594\u001b[0m \u001b[32m━━━━━━━━━━━━━━━━━━━━\u001b[0m\u001b[37m\u001b[0m \u001b[1m5s\u001b[0m 3ms/step - accuracy: 0.9399 - loss: 0.1598 - val_accuracy: 0.8814 - val_loss: 0.3826\n",
            "Epoch 34/60\n",
            "\u001b[1m1594/1594\u001b[0m \u001b[32m━━━━━━━━━━━━━━━━━━━━\u001b[0m\u001b[37m\u001b[0m \u001b[1m10s\u001b[0m 3ms/step - accuracy: 0.9415 - loss: 0.1571 - val_accuracy: 0.8663 - val_loss: 0.4265\n",
            "Epoch 35/60\n",
            "\u001b[1m1594/1594\u001b[0m \u001b[32m━━━━━━━━━━━━━━━━━━━━\u001b[0m\u001b[37m\u001b[0m \u001b[1m10s\u001b[0m 3ms/step - accuracy: 0.9374 - loss: 0.1614 - val_accuracy: 0.8826 - val_loss: 0.3917\n",
            "Epoch 36/60\n",
            "\u001b[1m1594/1594\u001b[0m \u001b[32m━━━━━━━━━━━━━━━━━━━━\u001b[0m\u001b[37m\u001b[0m \u001b[1m5s\u001b[0m 3ms/step - accuracy: 0.9435 - loss: 0.1490 - val_accuracy: 0.8779 - val_loss: 0.3940\n",
            "Epoch 37/60\n",
            "\u001b[1m1594/1594\u001b[0m \u001b[32m━━━━━━━━━━━━━━━━━━━━\u001b[0m\u001b[37m\u001b[0m \u001b[1m4s\u001b[0m 3ms/step - accuracy: 0.9432 - loss: 0.1491 - val_accuracy: 0.8792 - val_loss: 0.3902\n",
            "Epoch 38/60\n",
            "\u001b[1m1594/1594\u001b[0m \u001b[32m━━━━━━━━━━━━━━━━━━━━\u001b[0m\u001b[37m\u001b[0m \u001b[1m5s\u001b[0m 3ms/step - accuracy: 0.9428 - loss: 0.1553 - val_accuracy: 0.8813 - val_loss: 0.3896\n",
            "Epoch 39/60\n",
            "\u001b[1m1594/1594\u001b[0m \u001b[32m━━━━━━━━━━━━━━━━━━━━\u001b[0m\u001b[37m\u001b[0m \u001b[1m10s\u001b[0m 3ms/step - accuracy: 0.9430 - loss: 0.1503 - val_accuracy: 0.8797 - val_loss: 0.4134\n",
            "Epoch 40/60\n",
            "\u001b[1m1594/1594\u001b[0m \u001b[32m━━━━━━━━━━━━━━━━━━━━\u001b[0m\u001b[37m\u001b[0m \u001b[1m5s\u001b[0m 3ms/step - accuracy: 0.9451 - loss: 0.1436 - val_accuracy: 0.8890 - val_loss: 0.3883\n",
            "Epoch 41/60\n",
            "\u001b[1m1594/1594\u001b[0m \u001b[32m━━━━━━━━━━━━━━━━━━━━\u001b[0m\u001b[37m\u001b[0m \u001b[1m5s\u001b[0m 3ms/step - accuracy: 0.9443 - loss: 0.1433 - val_accuracy: 0.8846 - val_loss: 0.4076\n",
            "Epoch 42/60\n",
            "\u001b[1m1594/1594\u001b[0m \u001b[32m━━━━━━━━━━━━━━━━━━━━\u001b[0m\u001b[37m\u001b[0m \u001b[1m6s\u001b[0m 3ms/step - accuracy: 0.9506 - loss: 0.1351 - val_accuracy: 0.8826 - val_loss: 0.3978\n",
            "Epoch 43/60\n",
            "\u001b[1m1594/1594\u001b[0m \u001b[32m━━━━━━━━━━━━━━━━━━━━\u001b[0m\u001b[37m\u001b[0m \u001b[1m10s\u001b[0m 3ms/step - accuracy: 0.9480 - loss: 0.1368 - val_accuracy: 0.8864 - val_loss: 0.4077\n",
            "Epoch 44/60\n",
            "\u001b[1m1594/1594\u001b[0m \u001b[32m━━━━━━━━━━━━━━━━━━━━\u001b[0m\u001b[37m\u001b[0m \u001b[1m5s\u001b[0m 3ms/step - accuracy: 0.9497 - loss: 0.1322 - val_accuracy: 0.8766 - val_loss: 0.4318\n",
            "Epoch 45/60\n",
            "\u001b[1m1594/1594\u001b[0m \u001b[32m━━━━━━━━━━━━━━━━━━━━\u001b[0m\u001b[37m\u001b[0m \u001b[1m5s\u001b[0m 3ms/step - accuracy: 0.9493 - loss: 0.1352 - val_accuracy: 0.8761 - val_loss: 0.4211\n",
            "Epoch 46/60\n",
            "\u001b[1m1594/1594\u001b[0m \u001b[32m━━━━━━━━━━━━━━━━━━━━\u001b[0m\u001b[37m\u001b[0m \u001b[1m5s\u001b[0m 3ms/step - accuracy: 0.9489 - loss: 0.1326 - val_accuracy: 0.8781 - val_loss: 0.4295\n",
            "Epoch 47/60\n",
            "\u001b[1m1594/1594\u001b[0m \u001b[32m━━━━━━━━━━━━━━━━━━━━\u001b[0m\u001b[37m\u001b[0m \u001b[1m10s\u001b[0m 3ms/step - accuracy: 0.9508 - loss: 0.1302 - val_accuracy: 0.8747 - val_loss: 0.4440\n",
            "Epoch 48/60\n",
            "\u001b[1m1594/1594\u001b[0m \u001b[32m━━━━━━━━━━━━━━━━━━━━\u001b[0m\u001b[37m\u001b[0m \u001b[1m4s\u001b[0m 3ms/step - accuracy: 0.9522 - loss: 0.1292 - val_accuracy: 0.8763 - val_loss: 0.4537\n",
            "Epoch 49/60\n",
            "\u001b[1m1594/1594\u001b[0m \u001b[32m━━━━━━━━━━━━━━━━━━━━\u001b[0m\u001b[37m\u001b[0m \u001b[1m5s\u001b[0m 3ms/step - accuracy: 0.9534 - loss: 0.1256 - val_accuracy: 0.8709 - val_loss: 0.4780\n",
            "Epoch 50/60\n",
            "\u001b[1m1594/1594\u001b[0m \u001b[32m━━━━━━━━━━━━━━━━━━━━\u001b[0m\u001b[37m\u001b[0m \u001b[1m10s\u001b[0m 3ms/step - accuracy: 0.9518 - loss: 0.1284 - val_accuracy: 0.8808 - val_loss: 0.4227\n",
            "Epoch 51/60\n",
            "\u001b[1m1594/1594\u001b[0m \u001b[32m━━━━━━━━━━━━━━━━━━━━\u001b[0m\u001b[37m\u001b[0m \u001b[1m5s\u001b[0m 3ms/step - accuracy: 0.9535 - loss: 0.1206 - val_accuracy: 0.8806 - val_loss: 0.4399\n",
            "Epoch 52/60\n",
            "\u001b[1m1594/1594\u001b[0m \u001b[32m━━━━━━━━━━━━━━━━━━━━\u001b[0m\u001b[37m\u001b[0m \u001b[1m5s\u001b[0m 3ms/step - accuracy: 0.9540 - loss: 0.1221 - val_accuracy: 0.8834 - val_loss: 0.4238\n",
            "Epoch 53/60\n",
            "\u001b[1m1594/1594\u001b[0m \u001b[32m━━━━━━━━━━━━━━━━━━━━\u001b[0m\u001b[37m\u001b[0m \u001b[1m6s\u001b[0m 3ms/step - accuracy: 0.9549 - loss: 0.1205 - val_accuracy: 0.8779 - val_loss: 0.4623\n",
            "Epoch 54/60\n",
            "\u001b[1m1594/1594\u001b[0m \u001b[32m━━━━━━━━━━━━━━━━━━━━\u001b[0m\u001b[37m\u001b[0m \u001b[1m5s\u001b[0m 3ms/step - accuracy: 0.9539 - loss: 0.1222 - val_accuracy: 0.8806 - val_loss: 0.4344\n",
            "Epoch 55/60\n",
            "\u001b[1m1594/1594\u001b[0m \u001b[32m━━━━━━━━━━━━━━━━━━━━\u001b[0m\u001b[37m\u001b[0m \u001b[1m5s\u001b[0m 3ms/step - accuracy: 0.9554 - loss: 0.1214 - val_accuracy: 0.8848 - val_loss: 0.4317\n",
            "Epoch 56/60\n",
            "\u001b[1m1594/1594\u001b[0m \u001b[32m━━━━━━━━━━━━━━━━━━━━\u001b[0m\u001b[37m\u001b[0m \u001b[1m6s\u001b[0m 3ms/step - accuracy: 0.9559 - loss: 0.1147 - val_accuracy: 0.8813 - val_loss: 0.4406\n",
            "Epoch 57/60\n",
            "\u001b[1m1594/1594\u001b[0m \u001b[32m━━━━━━━━━━━━━━━━━━━━\u001b[0m\u001b[37m\u001b[0m \u001b[1m5s\u001b[0m 3ms/step - accuracy: 0.9559 - loss: 0.1161 - val_accuracy: 0.8819 - val_loss: 0.4408\n",
            "Epoch 58/60\n",
            "\u001b[1m1594/1594\u001b[0m \u001b[32m━━━━━━━━━━━━━━━━━━━━\u001b[0m\u001b[37m\u001b[0m \u001b[1m6s\u001b[0m 3ms/step - accuracy: 0.9576 - loss: 0.1134 - val_accuracy: 0.8877 - val_loss: 0.4264\n",
            "Epoch 59/60\n",
            "\u001b[1m1594/1594\u001b[0m \u001b[32m━━━━━━━━━━━━━━━━━━━━\u001b[0m\u001b[37m\u001b[0m \u001b[1m5s\u001b[0m 3ms/step - accuracy: 0.9604 - loss: 0.1093 - val_accuracy: 0.8809 - val_loss: 0.4570\n",
            "Epoch 60/60\n",
            "\u001b[1m1594/1594\u001b[0m \u001b[32m━━━━━━━━━━━━━━━━━━━━\u001b[0m\u001b[37m\u001b[0m \u001b[1m6s\u001b[0m 3ms/step - accuracy: 0.9580 - loss: 0.1103 - val_accuracy: 0.8811 - val_loss: 0.4541\n"
          ]
        }
      ]
    },
    {
      "cell_type": "code",
      "source": [
        "test_1 =X_test[1001:1004].round(2)"
      ],
      "metadata": {
        "id": "yJFoM0Bk-PZq"
      },
      "execution_count": 25,
      "outputs": []
    },
    {
      "cell_type": "code",
      "source": [
        "model.evaluate(X_test, y_test, verbose=1)"
      ],
      "metadata": {
        "colab": {
          "base_uri": "https://localhost:8080/"
        },
        "id": "ADKREe5w_sPD",
        "outputId": "27a7af48-d0d4-4551-ef32-86f8d3097a2e"
      },
      "execution_count": 26,
      "outputs": [
        {
          "output_type": "stream",
          "name": "stdout",
          "text": [
            "\u001b[1m313/313\u001b[0m \u001b[32m━━━━━━━━━━━━━━━━━━━━\u001b[0m\u001b[37m\u001b[0m \u001b[1m1s\u001b[0m 2ms/step - accuracy: 0.8736 - loss: 0.5041\n"
          ]
        },
        {
          "output_type": "execute_result",
          "data": {
            "text/plain": [
              "[0.49213725328445435, 0.8755999803543091]"
            ]
          },
          "metadata": {},
          "execution_count": 26
        }
      ]
    },
    {
      "cell_type": "code",
      "source": [
        "model.predict(test_1).round(2)"
      ],
      "metadata": {
        "colab": {
          "base_uri": "https://localhost:8080/"
        },
        "id": "TjgfyEnw_2Kx",
        "outputId": "cf0ed3fb-8af5-440f-bba7-a812550659a7"
      },
      "execution_count": 27,
      "outputs": [
        {
          "output_type": "stream",
          "name": "stdout",
          "text": [
            "\u001b[1m1/1\u001b[0m \u001b[32m━━━━━━━━━━━━━━━━━━━━\u001b[0m\u001b[37m\u001b[0m \u001b[1m0s\u001b[0m 29ms/step\n"
          ]
        },
        {
          "output_type": "execute_result",
          "data": {
            "text/plain": [
              "array([[0.  , 0.  , 0.  , 1.  , 0.  , 0.  , 0.  , 0.  , 0.  , 0.  ],\n",
              "       [0.01, 0.  , 0.  , 0.01, 0.  , 0.98, 0.  , 0.  , 0.  , 0.  ],\n",
              "       [0.  , 0.  , 0.  , 0.  , 0.  , 1.  , 0.  , 0.  , 0.  , 0.  ]],\n",
              "      dtype=float32)"
            ]
          },
          "metadata": {},
          "execution_count": 27
        }
      ]
    },
    {
      "cell_type": "code",
      "source": [
        "y_test[1001:1004].round(3)"
      ],
      "metadata": {
        "colab": {
          "base_uri": "https://localhost:8080/"
        },
        "id": "N8JBy4UnABsC",
        "outputId": "a9938eb6-4ad3-4092-8924-b239595e9b90"
      },
      "execution_count": 28,
      "outputs": [
        {
          "output_type": "execute_result",
          "data": {
            "text/plain": [
              "array([3, 5, 5], dtype=uint8)"
            ]
          },
          "metadata": {},
          "execution_count": 28
        }
      ]
    },
    {
      "cell_type": "code",
      "source": [
        "plt.imshow(test_1[0])"
      ],
      "metadata": {
        "colab": {
          "base_uri": "https://localhost:8080/",
          "height": 447
        },
        "id": "f0ZKCOilAj4i",
        "outputId": "ea647c5b-67fc-4492-8a42-bbeb80c7dcf6"
      },
      "execution_count": 30,
      "outputs": [
        {
          "output_type": "execute_result",
          "data": {
            "text/plain": [
              "<matplotlib.image.AxesImage at 0x7a4c06e02b50>"
            ]
          },
          "metadata": {},
          "execution_count": 30
        },
        {
          "output_type": "display_data",
          "data": {
            "text/plain": [
              "<Figure size 640x480 with 1 Axes>"
            ],
            "image/png": "[encoded data removed]"
          },
          "metadata": {}
        }
      ]
    },
    {
      "cell_type": "code",
      "source": [],
      "metadata": {
        "id": "oH5LcE98A8iB"
      },
      "execution_count": null,
      "outputs": []
    }
  ]
}